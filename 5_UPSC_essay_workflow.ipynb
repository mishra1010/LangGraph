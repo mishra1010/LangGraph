{
 "cells": [
  {
   "cell_type": "code",
   "execution_count": 1,
   "metadata": {},
   "outputs": [],
   "source": [
    "from langgraph.graph import StateGraph, START, END\n",
    "from langchain_openai import AzureChatOpenAI\n",
    "from typing import TypedDict, Annotated\n",
    "from dotenv import load_dotenv\n",
    "from openai import AzureOpenAI\n",
    "import os\n",
    "import operator\n",
    "from pydantic import BaseModel,Field"
   ]
  },
  {
   "cell_type": "code",
   "execution_count": 2,
   "metadata": {},
   "outputs": [
    {
     "data": {
      "text/plain": [
       "True"
      ]
     },
     "execution_count": 2,
     "metadata": {},
     "output_type": "execute_result"
    }
   ],
   "source": [
    "load_dotenv()"
   ]
  },
  {
   "cell_type": "code",
   "execution_count": 3,
   "metadata": {},
   "outputs": [],
   "source": [
    "model = AzureChatOpenAI(\n",
    "    deployment_name=\"gpt-4o-mini\",\n",
    "    api_key=os.getenv(\"AZURE_OPENAI_API_KEY\"),\n",
    "    azure_endpoint=os.getenv(\"azure_endpoint\"),\n",
    "    api_version=\"2024-12-01-preview\",  # Replace with the appropriate version\n",
    ")"
   ]
  },
  {
   "cell_type": "code",
   "execution_count": 5,
   "metadata": {},
   "outputs": [],
   "source": [
    "class EvaluationSchema(BaseModel):\n",
    "    feedback: str = Field(description='Detailed feedback for the essay')\n",
    "    score: int = Field(description='Score out of 10', ge=0, le=10)"
   ]
  },
  {
   "cell_type": "code",
   "execution_count": 6,
   "metadata": {},
   "outputs": [],
   "source": [
    "structured_model = model.with_structured_output(EvaluationSchema)"
   ]
  },
  {
   "cell_type": "code",
   "execution_count": 7,
   "metadata": {},
   "outputs": [],
   "source": [
    "essay = \"\"\"India in the Age of AI\n",
    "As the world enters a transformative era defined by artificial intelligence (AI), India stands at a critical juncture — one where it can either emerge as a global leader in AI innovation or risk falling behind in the technology race. The age of AI brings with it immense promise as well as unprecedented challenges, and how India navigates this landscape will shape its socio-economic and geopolitical future.\n",
    "\n",
    "India's strengths in the AI domain are rooted in its vast pool of skilled engineers, a thriving IT industry, and a growing startup ecosystem. With over 5 million STEM graduates annually and a burgeoning base of AI researchers, India possesses the intellectual capital required to build cutting-edge AI systems. Institutions like IITs, IIITs, and IISc have begun fostering AI research, while private players such as TCS, Infosys, and Wipro are integrating AI into their global services. In 2020, the government launched the National AI Strategy (AI for All) with a focus on inclusive growth, aiming to leverage AI in healthcare, agriculture, education, and smart mobility.\n",
    "\n",
    "One of the most promising applications of AI in India lies in agriculture, where predictive analytics can guide farmers on optimal sowing times, weather forecasts, and pest control. In healthcare, AI-powered diagnostics can help address India’s doctor-patient ratio crisis, particularly in rural areas. Educational platforms are increasingly using AI to personalize learning paths, while smart governance tools are helping improve public service delivery and fraud detection.\n",
    "\n",
    "However, the path to AI-led growth is riddled with challenges. Chief among them is the digital divide. While metropolitan cities may embrace AI-driven solutions, rural India continues to struggle with basic internet access and digital literacy. The risk of job displacement due to automation also looms large, especially for low-skilled workers. Without effective skilling and re-skilling programs, AI could exacerbate existing socio-economic inequalities.\n",
    "\n",
    "Another pressing concern is data privacy and ethics. As AI systems rely heavily on vast datasets, ensuring that personal data is used transparently and responsibly becomes vital. India is still shaping its data protection laws, and in the absence of a strong regulatory framework, AI systems may risk misuse or bias.\n",
    "\n",
    "To harness AI responsibly, India must adopt a multi-stakeholder approach involving the government, academia, industry, and civil society. Policies should promote open datasets, encourage responsible innovation, and ensure ethical AI practices. There is also a need for international collaboration, particularly with countries leading in AI research, to gain strategic advantage and ensure interoperability in global systems.\n",
    "\n",
    "India’s demographic dividend, when paired with responsible AI adoption, can unlock massive economic growth, improve governance, and uplift marginalized communities. But this vision will only materialize if AI is seen not merely as a tool for automation, but as an enabler of human-centered development.\n",
    "\n",
    "In conclusion, India in the age of AI is a story in the making — one of opportunity, responsibility, and transformation. The decisions we make today will not just determine India’s AI trajectory, but also its future as an inclusive, equitable, and innovation-driven society.\"\"\""
   ]
  },
  {
   "cell_type": "code",
   "execution_count": 10,
   "metadata": {},
   "outputs": [
    {
     "data": {
      "text/plain": [
       "EvaluationSchema(feedback=\"The essay presents a compelling overview of India's position in the age of AI, effectively highlighting both the opportunities and challenges associated with this technological shift. The use of clear and engaging language keeps the reader interested, while the structured approach aids comprehension. The introduction sets the stage well, establishing the significance of AI in shaping India's future. Each paragraph builds on this foundation, discussing strengths, applications, challenges, and solutions in a coherent manner.\\n\\nHowever, there are areas for improvement:\\n- The essay could benefit from more specific examples and data to illustrate points, particularly regarding the impact of AI and the digital divide.\\n- The transition between points could be smoother in places to enhance flow; for instance, a more explicit connection between the discussion of agricultural applications and the digital divide could strengthen the argument.\\n- While the call for international collaboration is noteworthy, it would be strengthened with examples of potential partnerships or initiatives.\\n\\nOverall, it effectively communicates a nuanced perspective on a complex topic. The language is articulate, and the essay maintains a formal tone throughout. More depth and specificity would enhance the overall impact.\", score=8)"
      ]
     },
     "execution_count": 10,
     "metadata": {},
     "output_type": "execute_result"
    }
   ],
   "source": [
    "prompt = f'Evaluate the language quality of the following essay and provide a feedback and assign score out of 10 \\n {essay}'\n",
    "structured_model.invoke(prompt)"
   ]
  },
  {
   "cell_type": "code",
   "execution_count": 20,
   "metadata": {},
   "outputs": [],
   "source": [
    "class UPSCState(TypedDict):\n",
    "    \n",
    "    essay: str\n",
    "    language_feedback: str\n",
    "    analysis_feedback: str\n",
    "    clarity_feedback: str\n",
    "    overall_feedback: str\n",
    "    individual_scores: Annotated[list[int], operator.add]\n",
    "    avg_score: float"
   ]
  },
  {
   "cell_type": "code",
   "execution_count": 21,
   "metadata": {},
   "outputs": [],
   "source": [
    "def evaluate_language(state: UPSCState):\n",
    "    prompt = f'Evaluate the language quality of the following essay and provide a feedback and assign score out of 10 \\n {state[\"essay\"]}'\n",
    "    response = structured_model.invoke(prompt)\n",
    "    return {'language_feedback': response.feedback, 'individual_scores': [response.score]}"
   ]
  },
  {
   "cell_type": "code",
   "execution_count": 22,
   "metadata": {},
   "outputs": [],
   "source": [
    "def evaluate_analysis(state: UPSCState):\n",
    "    prompt = f'Evaluate the depth of analysis of the following essay and provide a feedback and assign score out of 10 \\n {state[\"essay\"]}'\n",
    "    response = structured_model.invoke(prompt)\n",
    "    return {'analysis_feedback': response.feedback, 'individual_scores': [response.score]}"
   ]
  },
  {
   "cell_type": "code",
   "execution_count": 23,
   "metadata": {},
   "outputs": [],
   "source": [
    "def evaluate_thought(state: UPSCState):\n",
    "    prompt = f'Evaluate the clarity of thought of the following essay and provide a feedback and assign score out of 10 \\n {state[\"essay\"]}'\n",
    "    response = structured_model.invoke(prompt)\n",
    "    return {'clarity_feedback': response.feedback, 'individual_scores': [response.score]}"
   ]
  },
  {
   "cell_type": "code",
   "execution_count": 27,
   "metadata": {},
   "outputs": [],
   "source": [
    "def final_evaluation(state: UPSCState):\n",
    "    f'Based on the following feedbacks create a summarized feedback \\n language feedback: {state[\"language_feedback\"]} \\n depth of analysis feedback: {state[\"analysis_feedback\"]} \\n clarity of thought feedback: {state[\"clarity_feedback\"]}'\n",
    "    overall_feedback = model.invoke(prompt).content\n",
    "\n",
    "    #avg calculate\n",
    "    avg_score = sum(state['individual_scores'])/len(state['individual_scores'])\n",
    "    return {'overall_feedback': overall_feedback, 'avg_score': avg_score}"
   ]
  },
  {
   "cell_type": "code",
   "execution_count": 28,
   "metadata": {},
   "outputs": [],
   "source": [
    "graph = StateGraph(UPSCState)\n",
    "\n",
    "graph.add_node('evaluate_language', evaluate_language)\n",
    "graph.add_node('evaluate_analysis', evaluate_analysis)\n",
    "graph.add_node('evaluate_thought', evaluate_thought)\n",
    "graph.add_node('final_evaluation', final_evaluation)\n",
    "\n",
    "#edges\n",
    "\n",
    "graph.add_edge(START, 'evaluate_language')\n",
    "graph.add_edge(START, 'evaluate_analysis')\n",
    "graph.add_edge(START, 'evaluate_thought')\n",
    "\n",
    "graph.add_edge('evaluate_language', 'final_evaluation')\n",
    "graph.add_edge('evaluate_analysis', 'final_evaluation')\n",
    "graph.add_edge('evaluate_thought', 'final_evaluation')\n",
    "graph.add_edge('final_evaluation', END)\n",
    "\n",
    "workflow = graph.compile()\n"
   ]
  },
  {
   "cell_type": "code",
   "execution_count": 29,
   "metadata": {},
   "outputs": [
    {
     "data": {
      "text/plain": [
       "{'essay': \"India in the Age of AI\\nAs the world enters a transformative era defined by artificial intelligence (AI), India stands at a critical juncture — one where it can either emerge as a global leader in AI innovation or risk falling behind in the technology race. The age of AI brings with it immense promise as well as unprecedented challenges, and how India navigates this landscape will shape its socio-economic and geopolitical future.\\n\\nIndia's strengths in the AI domain are rooted in its vast pool of skilled engineers, a thriving IT industry, and a growing startup ecosystem. With over 5 million STEM graduates annually and a burgeoning base of AI researchers, India possesses the intellectual capital required to build cutting-edge AI systems. Institutions like IITs, IIITs, and IISc have begun fostering AI research, while private players such as TCS, Infosys, and Wipro are integrating AI into their global services. In 2020, the government launched the National AI Strategy (AI for All) with a focus on inclusive growth, aiming to leverage AI in healthcare, agriculture, education, and smart mobility.\\n\\nOne of the most promising applications of AI in India lies in agriculture, where predictive analytics can guide farmers on optimal sowing times, weather forecasts, and pest control. In healthcare, AI-powered diagnostics can help address India’s doctor-patient ratio crisis, particularly in rural areas. Educational platforms are increasingly using AI to personalize learning paths, while smart governance tools are helping improve public service delivery and fraud detection.\\n\\nHowever, the path to AI-led growth is riddled with challenges. Chief among them is the digital divide. While metropolitan cities may embrace AI-driven solutions, rural India continues to struggle with basic internet access and digital literacy. The risk of job displacement due to automation also looms large, especially for low-skilled workers. Without effective skilling and re-skilling programs, AI could exacerbate existing socio-economic inequalities.\\n\\nAnother pressing concern is data privacy and ethics. As AI systems rely heavily on vast datasets, ensuring that personal data is used transparently and responsibly becomes vital. India is still shaping its data protection laws, and in the absence of a strong regulatory framework, AI systems may risk misuse or bias.\\n\\nTo harness AI responsibly, India must adopt a multi-stakeholder approach involving the government, academia, industry, and civil society. Policies should promote open datasets, encourage responsible innovation, and ensure ethical AI practices. There is also a need for international collaboration, particularly with countries leading in AI research, to gain strategic advantage and ensure interoperability in global systems.\\n\\nIndia’s demographic dividend, when paired with responsible AI adoption, can unlock massive economic growth, improve governance, and uplift marginalized communities. But this vision will only materialize if AI is seen not merely as a tool for automation, but as an enabler of human-centered development.\\n\\nIn conclusion, India in the age of AI is a story in the making — one of opportunity, responsibility, and transformation. The decisions we make today will not just determine India’s AI trajectory, but also its future as an inclusive, equitable, and innovation-driven society.\",\n",
       " 'language_feedback': \"The essay presents a clear and coherent analysis of India's position in the age of AI, highlighting both the opportunities and challenges that the country faces. The structure is logical, moving from strengths to applications, followed by challenges and recommendations, which helps in maintaining a flow throughout the discussion. The language used is appropriate for the topic, with a good mix of technical terms and general vocabulary that caters to a broader audience. However, there are a few areas where the language could be improved. For example, while the essay is informative, it lacks some emotional engagement or illustrative examples that could deepen the reader's understanding and connection to the subject matter. Additionally, some sentences could be more concise to enhance clarity and readability. Overall, the essay effectively demonstrates the potential of AI in India and outlines the necessary steps towards responsible implementation. It is well-written, though it could benefit from a slight boost in engagement and clarity.\",\n",
       " 'analysis_feedback': \"The essay on 'India in the Age of AI' demonstrates a well-structured analysis of the opportunities and challenges presented by AI in India. The author effectively outlines India's strengths, such as its large pool of engineering talent and the active role of key institutions and industries in AI development. The discussion on AI applications in various sectors like agriculture, healthcare, and education adds depth to the argument, illustrating concrete examples of AI's potential impact. \\n\\nHowever, while the essay raises relevant challenges, including the digital divide and data privacy concerns, it could benefit from more detailed exploration of specific strategies to address these issues. For example, expanding on potential government initiatives or specific partnerships between public and private sectors could enhance the depth of analysis. Additionally, the conclusion reiterates the essay's main points but could also include a call to action or suggest concrete steps for stakeholders involved in AI development. \\n\\nOverall, the essay provides a solid overview of India's position in the AI landscape but could delve deeper into the implications of AI on society and the necessary actionable pathways to ensure equitable AI adoption.\",\n",
       " 'clarity_feedback': \"The essay presents a well-structured analysis of the current state of AI in India and explores both the potential benefits and challenges associated with its integration into various sectors. The clarity of thought is commendable, as the argument flows logically from India's strengths to its challenges, and finally to proposed solutions. The use of specific examples, like applications in agriculture and healthcare, effectively illustrates the points being made, enhancing understanding. However, some areas could benefit from deeper exploration, such as more details on specific data protection laws being developed and broader implications of the digital divide beyond rural access. Additionally, while the conclusion succinctly summarizes the essay's main points, it could be more persuasive by providing a call to action or emphasizing the urgency of addressing the outlined challenges. Overall, the essay manages to convey complex ideas clearly and persuasively, making it quite effective.\",\n",
       " 'overall_feedback': '**Language Quality Evaluation:**\\n\\nThe essay \"India in the Age of AI\" presents a well-structured and coherent argument regarding the potential and challenges of AI adoption in India. The language used is formal and appropriate for the subject matter. The essay effectively blends informative content with an analysis of socio-economic implications, maintaining a thoughtful tone throughout. Here are some specific observations and feedback:\\n\\n1. **Clarity and Coherence:**\\n   - The essay is clear and logically structured, with a clear introduction, body, and conclusion. Each paragraph transitions smoothly into the next, maintaining a coherent flow of ideas.\\n\\n2. **Content Depth:**\\n   - The essay covers a wide range of topics related to AI in India, including strengths, applications, challenges, and ethical considerations. This breadth enriches the discussion and showcases thorough research or understanding of the subject.\\n\\n3. **Language and Style:**\\n   - The language is formal and suitable for an academic discourse. The use of technical terms related to AI and socio-economic factors is handled well, ensuring that the audience can follow along without becoming lost in jargon.\\n\\n4. **Argumentation:**\\n   - Arguments are well-supported with relevant examples, such as mentioning specific institutions and government initiatives. This adds credibility to the points made and illustrates a comprehensive understanding of the topic.\\n\\n5. **Critical Thinking:**\\n   - The essay does well to address potential downsides of AI technology, such as the digital divide and the implications for job displacement, which is important for a balanced discussion. Additionally, the emphasis on multi-stakeholder collaboration highlights an understanding of the complexities involved in AI adoption.\\n\\n6. **Grammar and Mechanics:**\\n   - The essay is largely free from grammatical errors. Sentence structures vary enough to maintain reader interest, and punctuation is correctly applied.\\n\\n7. **Conclusion:**\\n   - The concluding statement effectively summarizes the underlying message of the essay, emphasizing the need for responsible AI adoption and proposing a visionary outlook for India\\'s future in AI.\\n\\n**Feedback:**\\n- While the essay is quite strong, it could benefit from more specific examples of successful AI implementation in various sectors to illustrate points further.\\n- Discussing more about potential global partnerships or comparative outlook with other nations could strengthen the argument about India\\'s position in the global AI landscape.\\n\\n**Score: 9/10**\\n- This essay excels in clarity, depth, and structure, with only minor opportunities for improvement in specificity and comparative analysis. Overall, it presents a compelling and informed perspective on the role of AI in India\\'s future.',\n",
       " 'individual_scores': [7, 8, 8],\n",
       " 'avg_score': 7.666666666666667}"
      ]
     },
     "execution_count": 29,
     "metadata": {},
     "output_type": "execute_result"
    }
   ],
   "source": [
    "initial_state = {\n",
    "    'essay': essay\n",
    "}\n",
    "\n",
    "workflow.invoke(initial_state)"
   ]
  }
 ],
 "metadata": {
  "kernelspec": {
   "display_name": "myenv",
   "language": "python",
   "name": "python3"
  },
  "language_info": {
   "codemirror_mode": {
    "name": "ipython",
    "version": 3
   },
   "file_extension": ".py",
   "mimetype": "text/x-python",
   "name": "python",
   "nbconvert_exporter": "python",
   "pygments_lexer": "ipython3",
   "version": "3.12.7"
  }
 },
 "nbformat": 4,
 "nbformat_minor": 2
}
