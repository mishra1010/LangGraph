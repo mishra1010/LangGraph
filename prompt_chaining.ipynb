{
 "cells": [
  {
   "cell_type": "code",
   "execution_count": 15,
   "metadata": {},
   "outputs": [],
   "source": [
    "from langgraph.graph import StateGraph, START, END\n",
    "from langchain_openai import AzureChatOpenAI\n",
    "from typing import TypedDict\n",
    "from dotenv import load_dotenv\n",
    "from openai import AzureOpenAI\n",
    "import os"
   ]
  },
  {
   "cell_type": "code",
   "execution_count": 16,
   "metadata": {},
   "outputs": [],
   "source": [
    "load_dotenv()\n",
    "model = AzureChatOpenAI(\n",
    "    deployment_name=\"gpt-35-turbo\",\n",
    "    api_key=os.getenv(\"AZURE_OPENAI_API_KEY\"),\n",
    "    azure_endpoint=os.getenv(\"azure_endpoint\"),\n",
    "    api_version=\"2024-12-01-preview\",  # Replace with the appropriate version\n",
    ")"
   ]
  },
  {
   "cell_type": "code",
   "execution_count": 17,
   "metadata": {},
   "outputs": [],
   "source": [
    "class BlogState(TypedDict):\n",
    "    title: str\n",
    "    outline: str\n",
    "    content: str"
   ]
  },
  {
   "cell_type": "code",
   "execution_count": 18,
   "metadata": {},
   "outputs": [],
   "source": [
    "def create_outline(state: BlogState) -> BlogState:\n",
    "    # fetch Title\n",
    "    title = state['title']\n",
    "    #call llm to gen outline\n",
    "    prompt = f'Generate a detailed outline for a blog on the toipic - {title}'\n",
    "    outline = model.invoke(prompt).content\n",
    "\n",
    "    # update state\n",
    "    state['outline'] = outline\n",
    "    return state\n"
   ]
  },
  {
   "cell_type": "code",
   "execution_count": 19,
   "metadata": {},
   "outputs": [],
   "source": [
    "def create_blog(state: BlogState) -> BlogState:\n",
    "    # fetch outline\n",
    "    outline = state['outline']\n",
    "    title = state['title']\n",
    "    #call llm to gen blog\n",
    "    prompt = f'Generate a detailed blog for the title - {title} using the following outline \\n {outline}'\n",
    "    content = model.invoke(prompt).content\n",
    "\n",
    "    # update state\n",
    "    state['content'] = content\n",
    "    return state"
   ]
  },
  {
   "cell_type": "code",
   "execution_count": 20,
   "metadata": {},
   "outputs": [],
   "source": [
    "graph = StateGraph(BlogState)\n",
    "\n",
    "#nodes\n",
    "graph.add_node('create_outline', create_outline)\n",
    "graph.add_node('create_blog', create_blog)\n",
    "\n",
    "#edges\n",
    "graph.add_edge(START, 'create_outline')\n",
    "graph.add_edge('create_outline', 'create_blog')\n",
    "graph.add_edge('create_blog', END)\n",
    "\n",
    "workflow = graph.compile()"
   ]
  },
  {
   "cell_type": "code",
   "execution_count": 21,
   "metadata": {},
   "outputs": [
    {
     "name": "stdout",
     "output_type": "stream",
     "text": [
      "{'title': 'Rise of AI in India', 'outline': 'I. Introduction\\n    A. Brief overview of AI\\n    B. Importance of AI in India\\n    C. Thesis statement - The Rise of AI in India\\n\\nII. The Current State of AI in India\\n    A. Overview of the current use of AI in various industries in India\\n    B. Key players in the AI industry in India\\n    C. Challenges faced by the AI industry in India\\n\\nIII. The Growth of AI in India\\n    A. Factors contributing to the growth of AI in India\\n    B. Investment in AI technology in India\\n    C. Government initiatives to promote AI in India\\n\\nIV. Applications of AI in India\\n    A. AI in healthcare industry\\n        1. Diagnosis and treatment\\n        2. Remote monitoring\\n    B. AI in agriculture industry\\n        1. Precision agriculture\\n        2. Crop monitoring\\n    C. AI in education industry\\n        1. Personalized learning\\n        2. Exam proctoring\\n\\nV. Future of AI in India\\n    A. Potential impact of AI on the Indian economy\\n    B. Job displacement vs job creation in the AI industry\\n    C. Ethical considerations in the use of AI in India\\n\\nVI. Conclusion\\n    A. Restate the importance of AI in India\\n    B. Summarize key points discussed in the blog\\n    C. Final thoughts on the future of AI in India', 'content': \"With rapid advancements in technology, Artificial Intelligence (AI) has emerged as a transformative force globally. In India, the rise of AI is becoming increasingly prominent, with its potential to revolutionize various industries and sectors. This blog will delve into the current state of AI in India, the factors contributing to its growth, its applications in different industries, and its future implications for the country.\\n\\nI. Introduction\\nA. AI refers to the simulation of human intelligence processes by machines, including learning, reasoning, and self-correction.\\nB. AI is crucial for India's technological advancements and competitiveness in the global market.\\nC. Thesis statement - The Rise of AI in India will revolutionize industries and sectors and drive economic growth.\\n\\nII. The Current State of AI in India\\nA. AI is currently being used across industries such as healthcare, agriculture, education, finance, and manufacturing in India.\\nB. Key players in the AI industry in India include tech giants like Infosys, TCS, Wipro, and startups like Niki.ai, Locus, and SigTuple.\\nC. Challenges faced by the AI industry in India include a shortage of skilled professionals, data privacy concerns, and regulatory hurdles.\\n\\nIII. The Growth of AI in India\\nA. Factors contributing to the growth of AI in India include increasing digitization, a growing tech-savvy population, and government support for AI initiatives.\\nB. Investment in AI technology in India is on the rise, with funding flowing into startups and research institutions in the AI space.\\nC. The government has launched initiatives like the National AI Portal and the National AI Strategy to promote AI adoption in India.\\n\\nIV. Applications of AI in India\\nA. In the healthcare industry, AI is being used for diagnosis and treatment, remote patient monitoring, and drug discovery.\\nB. In the agriculture industry, AI is enabling precision agriculture, crop monitoring, and pest management.\\nC. In the education industry, AI is facilitating personalized learning, exam proctoring, and student performance analysis.\\n\\nV. Future of AI in India\\nA. AI has the potential to boost the Indian economy by increasing productivity, efficiency, and innovation in various sectors.\\nB. While AI may lead to job displacement in certain industries, it is also expected to create new job opportunities in AI development, maintenance, and management.\\nC. Ethical considerations around AI in India include data privacy, bias in algorithms, and the impact on job markets.\\n\\nVI. Conclusion\\nA. The rise of AI in India is set to transform industries, drive economic growth, and create new opportunities for innovation.\\nB. Key points discussed in this blog highlight the current state of AI in India, its growth factors, applications across industries, and future implications.\\nC. In conclusion, the future of AI in India holds great promise for technological advancements and societal progress.\"}\n"
     ]
    }
   ],
   "source": [
    "\n",
    "initial_state = {'title': 'Rise of AI in India'}\n",
    "\n",
    "final_state = workflow.invoke(initial_state)\n",
    "\n",
    "print(final_state)"
   ]
  },
  {
   "cell_type": "code",
   "execution_count": 22,
   "metadata": {},
   "outputs": [
    {
     "name": "stdout",
     "output_type": "stream",
     "text": [
      "I. Introduction\n",
      "    A. Brief overview of AI\n",
      "    B. Importance of AI in India\n",
      "    C. Thesis statement - The Rise of AI in India\n",
      "\n",
      "II. The Current State of AI in India\n",
      "    A. Overview of the current use of AI in various industries in India\n",
      "    B. Key players in the AI industry in India\n",
      "    C. Challenges faced by the AI industry in India\n",
      "\n",
      "III. The Growth of AI in India\n",
      "    A. Factors contributing to the growth of AI in India\n",
      "    B. Investment in AI technology in India\n",
      "    C. Government initiatives to promote AI in India\n",
      "\n",
      "IV. Applications of AI in India\n",
      "    A. AI in healthcare industry\n",
      "        1. Diagnosis and treatment\n",
      "        2. Remote monitoring\n",
      "    B. AI in agriculture industry\n",
      "        1. Precision agriculture\n",
      "        2. Crop monitoring\n",
      "    C. AI in education industry\n",
      "        1. Personalized learning\n",
      "        2. Exam proctoring\n",
      "\n",
      "V. Future of AI in India\n",
      "    A. Potential impact of AI on the Indian economy\n",
      "    B. Job displacement vs job creation in the AI industry\n",
      "    C. Ethical considerations in the use of AI in India\n",
      "\n",
      "VI. Conclusion\n",
      "    A. Restate the importance of AI in India\n",
      "    B. Summarize key points discussed in the blog\n",
      "    C. Final thoughts on the future of AI in India\n"
     ]
    }
   ],
   "source": [
    "print(final_state['outline'])"
   ]
  },
  {
   "cell_type": "code",
   "execution_count": 23,
   "metadata": {},
   "outputs": [
    {
     "name": "stdout",
     "output_type": "stream",
     "text": [
      "With rapid advancements in technology, Artificial Intelligence (AI) has emerged as a transformative force globally. In India, the rise of AI is becoming increasingly prominent, with its potential to revolutionize various industries and sectors. This blog will delve into the current state of AI in India, the factors contributing to its growth, its applications in different industries, and its future implications for the country.\n",
      "\n",
      "I. Introduction\n",
      "A. AI refers to the simulation of human intelligence processes by machines, including learning, reasoning, and self-correction.\n",
      "B. AI is crucial for India's technological advancements and competitiveness in the global market.\n",
      "C. Thesis statement - The Rise of AI in India will revolutionize industries and sectors and drive economic growth.\n",
      "\n",
      "II. The Current State of AI in India\n",
      "A. AI is currently being used across industries such as healthcare, agriculture, education, finance, and manufacturing in India.\n",
      "B. Key players in the AI industry in India include tech giants like Infosys, TCS, Wipro, and startups like Niki.ai, Locus, and SigTuple.\n",
      "C. Challenges faced by the AI industry in India include a shortage of skilled professionals, data privacy concerns, and regulatory hurdles.\n",
      "\n",
      "III. The Growth of AI in India\n",
      "A. Factors contributing to the growth of AI in India include increasing digitization, a growing tech-savvy population, and government support for AI initiatives.\n",
      "B. Investment in AI technology in India is on the rise, with funding flowing into startups and research institutions in the AI space.\n",
      "C. The government has launched initiatives like the National AI Portal and the National AI Strategy to promote AI adoption in India.\n",
      "\n",
      "IV. Applications of AI in India\n",
      "A. In the healthcare industry, AI is being used for diagnosis and treatment, remote patient monitoring, and drug discovery.\n",
      "B. In the agriculture industry, AI is enabling precision agriculture, crop monitoring, and pest management.\n",
      "C. In the education industry, AI is facilitating personalized learning, exam proctoring, and student performance analysis.\n",
      "\n",
      "V. Future of AI in India\n",
      "A. AI has the potential to boost the Indian economy by increasing productivity, efficiency, and innovation in various sectors.\n",
      "B. While AI may lead to job displacement in certain industries, it is also expected to create new job opportunities in AI development, maintenance, and management.\n",
      "C. Ethical considerations around AI in India include data privacy, bias in algorithms, and the impact on job markets.\n",
      "\n",
      "VI. Conclusion\n",
      "A. The rise of AI in India is set to transform industries, drive economic growth, and create new opportunities for innovation.\n",
      "B. Key points discussed in this blog highlight the current state of AI in India, its growth factors, applications across industries, and future implications.\n",
      "C. In conclusion, the future of AI in India holds great promise for technological advancements and societal progress.\n"
     ]
    }
   ],
   "source": [
    "print(final_state['content'])"
   ]
  }
 ],
 "metadata": {
  "kernelspec": {
   "display_name": "myenv",
   "language": "python",
   "name": "python3"
  },
  "language_info": {
   "codemirror_mode": {
    "name": "ipython",
    "version": 3
   },
   "file_extension": ".py",
   "mimetype": "text/x-python",
   "name": "python",
   "nbconvert_exporter": "python",
   "pygments_lexer": "ipython3",
   "version": "3.12.7"
  }
 },
 "nbformat": 4,
 "nbformat_minor": 2
}
